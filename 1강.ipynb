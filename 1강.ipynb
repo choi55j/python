{
 "cells": [
  {
   "cell_type": "markdown",
   "id": "a4f1fc87",
   "metadata": {},
   "source": [
    "# Data Type"
   ]
  },
  {
   "cell_type": "markdown",
   "id": "7bfbb194",
   "metadata": {},
   "source": [
    "Numbers"
   ]
  },
  {
   "cell_type": "code",
   "execution_count": 12,
   "id": "c1904d88",
   "metadata": {},
   "outputs": [
    {
     "data": {
      "text/plain": [
       "2"
      ]
     },
     "execution_count": 12,
     "metadata": {},
     "output_type": "execute_result"
    }
   ],
   "source": [
    "1+1"
   ]
  },
  {
   "cell_type": "code",
   "execution_count": 13,
   "id": "f2e8ac71",
   "metadata": {},
   "outputs": [
    {
     "data": {
      "text/plain": [
       "3"
      ]
     },
     "execution_count": 13,
     "metadata": {},
     "output_type": "execute_result"
    }
   ],
   "source": [
    "1*3"
   ]
  },
  {
   "cell_type": "code",
   "execution_count": 14,
   "id": "7ff6f66a",
   "metadata": {},
   "outputs": [
    {
     "data": {
      "text/plain": [
       "0.5"
      ]
     },
     "execution_count": 14,
     "metadata": {},
     "output_type": "execute_result"
    }
   ],
   "source": [
    "1/2"
   ]
  },
  {
   "cell_type": "code",
   "execution_count": 15,
   "id": "ca86e48e",
   "metadata": {},
   "outputs": [
    {
     "data": {
      "text/plain": [
       "16"
      ]
     },
     "execution_count": 15,
     "metadata": {},
     "output_type": "execute_result"
    }
   ],
   "source": [
    "2**4\n",
    "# 제곱"
   ]
  },
  {
   "cell_type": "code",
   "execution_count": 16,
   "id": "8cd820a3",
   "metadata": {},
   "outputs": [
    {
     "data": {
      "text/plain": [
       "1"
      ]
     },
     "execution_count": 16,
     "metadata": {},
     "output_type": "execute_result"
    }
   ],
   "source": [
    "5%2\n",
    "# 나누기하고 나머지 값"
   ]
  },
  {
   "cell_type": "code",
   "execution_count": 17,
   "id": "bce4f527",
   "metadata": {},
   "outputs": [
    {
     "data": {
      "text/plain": [
       "50"
      ]
     },
     "execution_count": 17,
     "metadata": {},
     "output_type": "execute_result"
    }
   ],
   "source": [
    "(2+3)*(5+5)"
   ]
  },
  {
   "cell_type": "code",
   "execution_count": 18,
   "id": "054a6f87",
   "metadata": {},
   "outputs": [
    {
     "data": {
      "text/plain": [
       "22"
      ]
     },
     "execution_count": 18,
     "metadata": {},
     "output_type": "execute_result"
    }
   ],
   "source": [
    "2+3*5+5"
   ]
  },
  {
   "cell_type": "markdown",
   "id": "8b4915af",
   "metadata": {},
   "source": [
    "변수 대입"
   ]
  },
  {
   "cell_type": "code",
   "execution_count": 19,
   "id": "c38d18e1",
   "metadata": {},
   "outputs": [],
   "source": [
    "# 변수\n",
    "name_of_var =2"
   ]
  },
  {
   "cell_type": "code",
   "execution_count": 20,
   "id": "8d4def8e",
   "metadata": {},
   "outputs": [
    {
     "data": {
      "text/plain": [
       "2"
      ]
     },
     "execution_count": 20,
     "metadata": {},
     "output_type": "execute_result"
    }
   ],
   "source": [
    "name_of_var"
   ]
  },
  {
   "cell_type": "code",
   "execution_count": 21,
   "id": "821e0dcf",
   "metadata": {},
   "outputs": [],
   "source": [
    "x=2\n",
    "y=3"
   ]
  },
  {
   "cell_type": "code",
   "execution_count": 22,
   "id": "7dbea934",
   "metadata": {},
   "outputs": [],
   "source": [
    "z=x+y"
   ]
  },
  {
   "cell_type": "code",
   "execution_count": 23,
   "id": "16c9172d",
   "metadata": {},
   "outputs": [
    {
     "data": {
      "text/plain": [
       "5"
      ]
     },
     "execution_count": 23,
     "metadata": {},
     "output_type": "execute_result"
    }
   ],
   "source": [
    "z"
   ]
  },
  {
   "cell_type": "code",
   "execution_count": 24,
   "id": "546a61e0",
   "metadata": {},
   "outputs": [],
   "source": [
    "# 변수는 숫자나 특수문자로 시작할수 없다."
   ]
  },
  {
   "cell_type": "markdown",
   "id": "84a09a1c",
   "metadata": {},
   "source": [
    "strings <-Markdown 으로 문자 입력"
   ]
  },
  {
   "cell_type": "code",
   "execution_count": 25,
   "id": "d230c022",
   "metadata": {},
   "outputs": [
    {
     "data": {
      "text/plain": [
       "'single quotes'"
      ]
     },
     "execution_count": 25,
     "metadata": {},
     "output_type": "execute_result"
    }
   ],
   "source": [
    "'single quotes'\n",
    "#단따음표"
   ]
  },
  {
   "cell_type": "code",
   "execution_count": 26,
   "id": "c3f764db",
   "metadata": {},
   "outputs": [
    {
     "data": {
      "text/plain": [
       "'double quotes'"
      ]
     },
     "execution_count": 26,
     "metadata": {},
     "output_type": "execute_result"
    }
   ],
   "source": [
    "\"double quotes\"\n",
    "#쌍따음표"
   ]
  },
  {
   "cell_type": "code",
   "execution_count": 27,
   "id": "37777e49",
   "metadata": {},
   "outputs": [
    {
     "data": {
      "text/plain": [
       "\"wrap lot's of other quotes\""
      ]
     },
     "execution_count": 27,
     "metadata": {},
     "output_type": "execute_result"
    }
   ],
   "source": [
    "\"wrap lot's of other quotes\"\n",
    "# 파이썬에서는 space를 문자로 인식한다."
   ]
  },
  {
   "cell_type": "raw",
   "id": "a410c573",
   "metadata": {},
   "source": [
    "printing(출력)"
   ]
  },
  {
   "cell_type": "code",
   "execution_count": 28,
   "id": "00fd9fb0",
   "metadata": {},
   "outputs": [],
   "source": [
    "x = \"hello\""
   ]
  },
  {
   "cell_type": "code",
   "execution_count": 29,
   "id": "edaee90d",
   "metadata": {},
   "outputs": [
    {
     "data": {
      "text/plain": [
       "'hello'"
      ]
     },
     "execution_count": 29,
     "metadata": {},
     "output_type": "execute_result"
    }
   ],
   "source": [
    "x"
   ]
  },
  {
   "cell_type": "code",
   "execution_count": 30,
   "id": "4d8b8d27",
   "metadata": {},
   "outputs": [
    {
     "name": "stdout",
     "output_type": "stream",
     "text": [
      "hello\n"
     ]
    }
   ],
   "source": [
    "print(x)"
   ]
  },
  {
   "cell_type": "code",
   "execution_count": 31,
   "id": "8686fb4f",
   "metadata": {},
   "outputs": [],
   "source": [
    "num = 12\n",
    "name = 'Sam'"
   ]
  },
  {
   "cell_type": "code",
   "execution_count": 32,
   "id": "edf8d267",
   "metadata": {},
   "outputs": [
    {
     "name": "stdout",
     "output_type": "stream",
     "text": [
      "My number is : 12, and my name is: Sam\n"
     ]
    }
   ],
   "source": [
    "print('My number is : {one}, and my name is: {two}'.format(one=num,two=name))"
   ]
  },
  {
   "cell_type": "code",
   "execution_count": 33,
   "id": "24f36c11",
   "metadata": {},
   "outputs": [
    {
     "name": "stdout",
     "output_type": "stream",
     "text": [
      "My number is : 12, and my name is: Sam\n"
     ]
    }
   ],
   "source": [
    "print('My number is : {}, and my name is: {}'.format(num,name))"
   ]
  },
  {
   "cell_type": "code",
   "execution_count": 34,
   "id": "f878d409",
   "metadata": {},
   "outputs": [],
   "source": [
    "num1 = 18\n",
    "name1 = '최수혁'"
   ]
  },
  {
   "cell_type": "code",
   "execution_count": 35,
   "id": "d3e3be3e",
   "metadata": {},
   "outputs": [
    {
     "name": "stdout",
     "output_type": "stream",
     "text": [
      "저의 나이는 18살 저의 이름은 최수혁 해적왕이될 남자다!\n"
     ]
    }
   ],
   "source": [
    "print('저의 나이는 {}살 저의 이름은 {} 해적왕이될 남자다!'.format(num1,name1))"
   ]
  },
  {
   "cell_type": "markdown",
   "id": "705206a8",
   "metadata": {},
   "source": [
    "Lists"
   ]
  },
  {
   "cell_type": "code",
   "execution_count": 36,
   "id": "6f0e7fa7",
   "metadata": {},
   "outputs": [
    {
     "data": {
      "text/plain": [
       "[1, 2, 3]"
      ]
     },
     "execution_count": 36,
     "metadata": {},
     "output_type": "execute_result"
    }
   ],
   "source": [
    "[1,2,3]"
   ]
  },
  {
   "cell_type": "code",
   "execution_count": 37,
   "id": "e6d98b3c",
   "metadata": {},
   "outputs": [
    {
     "data": {
      "text/plain": [
       "['hi', 1, [1, 2]]"
      ]
     },
     "execution_count": 37,
     "metadata": {},
     "output_type": "execute_result"
    }
   ],
   "source": [
    "['hi',1,[1,2]]\n",
    "# 리스트 안에 다양한 형태의 데이터가 들어갈 수 있다"
   ]
  },
  {
   "cell_type": "code",
   "execution_count": 38,
   "id": "4c91063b",
   "metadata": {},
   "outputs": [],
   "source": [
    "my_list = ['a','b','c']\n",
    "# 리스트형의 데이터 타입에 추가 데이터를 넣는 방법"
   ]
  },
  {
   "cell_type": "code",
   "execution_count": 39,
   "id": "ab831831",
   "metadata": {},
   "outputs": [],
   "source": [
    "my_list.append('c')"
   ]
  },
  {
   "cell_type": "code",
   "execution_count": 40,
   "id": "8c4598b9",
   "metadata": {},
   "outputs": [
    {
     "data": {
      "text/plain": [
       "'a'"
      ]
     },
     "execution_count": 40,
     "metadata": {},
     "output_type": "execute_result"
    }
   ],
   "source": [
    "my_list.pop(0)"
   ]
  },
  {
   "cell_type": "code",
   "execution_count": 41,
   "id": "b861cbd6",
   "metadata": {},
   "outputs": [
    {
     "data": {
      "text/plain": [
       "['b', 'c', 'c']"
      ]
     },
     "execution_count": 41,
     "metadata": {},
     "output_type": "execute_result"
    }
   ],
   "source": [
    "my_list"
   ]
  },
  {
   "cell_type": "code",
   "execution_count": 42,
   "id": "15995710",
   "metadata": {
    "scrolled": true
   },
   "outputs": [
    {
     "data": {
      "text/plain": [
       "'b'"
      ]
     },
     "execution_count": 42,
     "metadata": {},
     "output_type": "execute_result"
    }
   ],
   "source": [
    "my_list[0]"
   ]
  },
  {
   "cell_type": "code",
   "execution_count": 43,
   "id": "b308623b",
   "metadata": {},
   "outputs": [
    {
     "data": {
      "text/plain": [
       "'c'"
      ]
     },
     "execution_count": 43,
     "metadata": {},
     "output_type": "execute_result"
    }
   ],
   "source": [
    "my_list[1]"
   ]
  },
  {
   "cell_type": "code",
   "execution_count": 44,
   "id": "e7cdda47",
   "metadata": {
    "scrolled": true
   },
   "outputs": [
    {
     "data": {
      "text/plain": [
       "['c', 'c']"
      ]
     },
     "execution_count": 44,
     "metadata": {},
     "output_type": "execute_result"
    }
   ],
   "source": [
    "my_list[1:]"
   ]
  },
  {
   "cell_type": "code",
   "execution_count": 45,
   "id": "96506f18",
   "metadata": {},
   "outputs": [],
   "source": [
    "my_list[0] = \"NEW\""
   ]
  },
  {
   "cell_type": "code",
   "execution_count": 46,
   "id": "b9291fd1",
   "metadata": {},
   "outputs": [
    {
     "data": {
      "text/plain": [
       "['NEW', 'c', 'c']"
      ]
     },
     "execution_count": 46,
     "metadata": {},
     "output_type": "execute_result"
    }
   ],
   "source": [
    "my_list"
   ]
  },
  {
   "cell_type": "code",
   "execution_count": 47,
   "id": "8d88ea1b",
   "metadata": {},
   "outputs": [],
   "source": [
    "nest = [1,2,3,[4,5,['target']]]"
   ]
  },
  {
   "cell_type": "code",
   "execution_count": 48,
   "id": "c53986c1",
   "metadata": {},
   "outputs": [
    {
     "data": {
      "text/plain": [
       "[4, 5, ['target']]"
      ]
     },
     "execution_count": 48,
     "metadata": {},
     "output_type": "execute_result"
    }
   ],
   "source": [
    "nest[3]"
   ]
  },
  {
   "cell_type": "code",
   "execution_count": 49,
   "id": "b000096c",
   "metadata": {},
   "outputs": [
    {
     "data": {
      "text/plain": [
       "'target'"
      ]
     },
     "execution_count": 49,
     "metadata": {},
     "output_type": "execute_result"
    }
   ],
   "source": [
    "nest[3][2][0]"
   ]
  },
  {
   "cell_type": "markdown",
   "id": "f41e708b",
   "metadata": {},
   "source": [
    "Dictionaries"
   ]
  },
  {
   "cell_type": "code",
   "execution_count": 50,
   "id": "71b5ffc2",
   "metadata": {},
   "outputs": [],
   "source": [
    "d = {'key1':'item1','key2':'item2'}\n",
    "# 매핑(Mapping)\n",
    "# 데이터이름 : 데이터 내용"
   ]
  },
  {
   "cell_type": "code",
   "execution_count": 51,
   "id": "a4611993",
   "metadata": {},
   "outputs": [
    {
     "data": {
      "text/plain": [
       "'item1'"
      ]
     },
     "execution_count": 51,
     "metadata": {},
     "output_type": "execute_result"
    }
   ],
   "source": [
    "d['key1']"
   ]
  },
  {
   "cell_type": "code",
   "execution_count": 52,
   "id": "f0e606e8",
   "metadata": {},
   "outputs": [
    {
     "data": {
      "text/plain": [
       "'item2'"
      ]
     },
     "execution_count": 52,
     "metadata": {},
     "output_type": "execute_result"
    }
   ],
   "source": [
    "d['key2']"
   ]
  },
  {
   "cell_type": "markdown",
   "id": "e3df0c13",
   "metadata": {},
   "source": [
    "Booleans : 참과 거짓을 표현하는 데이터 형태"
   ]
  },
  {
   "cell_type": "code",
   "execution_count": 53,
   "id": "841093d0",
   "metadata": {},
   "outputs": [
    {
     "data": {
      "text/plain": [
       "True"
      ]
     },
     "execution_count": 53,
     "metadata": {},
     "output_type": "execute_result"
    }
   ],
   "source": [
    "True\n",
    "# 1"
   ]
  },
  {
   "cell_type": "code",
   "execution_count": 54,
   "id": "37313fc7",
   "metadata": {},
   "outputs": [
    {
     "data": {
      "text/plain": [
       "False"
      ]
     },
     "execution_count": 54,
     "metadata": {},
     "output_type": "execute_result"
    }
   ],
   "source": [
    "False\n",
    "# 0"
   ]
  },
  {
   "cell_type": "markdown",
   "id": "24f5c8a9",
   "metadata": {},
   "source": [
    "Tuples"
   ]
  },
  {
   "cell_type": "code",
   "execution_count": 55,
   "id": "4d9a26e9",
   "metadata": {},
   "outputs": [],
   "source": [
    "t = (1,2,3)"
   ]
  },
  {
   "cell_type": "code",
   "execution_count": 56,
   "id": "1b731d4d",
   "metadata": {},
   "outputs": [
    {
     "data": {
      "text/plain": [
       "1"
      ]
     },
     "execution_count": 56,
     "metadata": {},
     "output_type": "execute_result"
    }
   ],
   "source": [
    "t[0]"
   ]
  },
  {
   "cell_type": "markdown",
   "id": "50fe46a8",
   "metadata": {},
   "source": [
    "Sets"
   ]
  },
  {
   "cell_type": "code",
   "execution_count": 57,
   "id": "5db4dbe7",
   "metadata": {},
   "outputs": [
    {
     "data": {
      "text/plain": [
       "{1, 2, 3}"
      ]
     },
     "execution_count": 57,
     "metadata": {},
     "output_type": "execute_result"
    }
   ],
   "source": [
    "{1,2,3}"
   ]
  },
  {
   "cell_type": "code",
   "execution_count": 58,
   "id": "588fc3d9",
   "metadata": {},
   "outputs": [
    {
     "data": {
      "text/plain": [
       "{1, 2, 3}"
      ]
     },
     "execution_count": 58,
     "metadata": {},
     "output_type": "execute_result"
    }
   ],
   "source": [
    "{1,2,3,1,2,1,2,3,3,3,3,3,2,2,2,1,1,2}\n",
    "# Set 이라는 데이터 타입은 중복을 허용하지 않는다"
   ]
  },
  {
   "cell_type": "markdown",
   "id": "204db577",
   "metadata": {},
   "source": [
    "Comparison Operators"
   ]
  },
  {
   "cell_type": "code",
   "execution_count": 59,
   "id": "08d82915",
   "metadata": {},
   "outputs": [
    {
     "data": {
      "text/plain": [
       "False"
      ]
     },
     "execution_count": 59,
     "metadata": {},
     "output_type": "execute_result"
    }
   ],
   "source": [
    "1>2"
   ]
  },
  {
   "cell_type": "code",
   "execution_count": 60,
   "id": "24b66a3d",
   "metadata": {},
   "outputs": [
    {
     "data": {
      "text/plain": [
       "True"
      ]
     },
     "execution_count": 60,
     "metadata": {},
     "output_type": "execute_result"
    }
   ],
   "source": [
    "1<2"
   ]
  },
  {
   "cell_type": "code",
   "execution_count": 61,
   "id": "7392ebfb",
   "metadata": {},
   "outputs": [
    {
     "data": {
      "text/plain": [
       "True"
      ]
     },
     "execution_count": 61,
     "metadata": {},
     "output_type": "execute_result"
    }
   ],
   "source": [
    "1>=1\n",
    "# > or =, 두 조건 중 하나만 성립하면 True"
   ]
  },
  {
   "cell_type": "code",
   "execution_count": 62,
   "id": "7ad9a08a",
   "metadata": {},
   "outputs": [
    {
     "data": {
      "text/plain": [
       "True"
      ]
     },
     "execution_count": 62,
     "metadata": {},
     "output_type": "execute_result"
    }
   ],
   "source": [
    "1<=4"
   ]
  },
  {
   "cell_type": "code",
   "execution_count": 63,
   "id": "861e3663",
   "metadata": {},
   "outputs": [
    {
     "data": {
      "text/plain": [
       "True"
      ]
     },
     "execution_count": 63,
     "metadata": {},
     "output_type": "execute_result"
    }
   ],
   "source": [
    "1==1\n",
    "# 대입연산자\n",
    "# == 같다,"
   ]
  },
  {
   "cell_type": "markdown",
   "id": "6c5ffbc7",
   "metadata": {},
   "source": [
    "Logic Operators : 논리연산자"
   ]
  },
  {
   "cell_type": "code",
   "execution_count": 64,
   "id": "10bcfbb5",
   "metadata": {},
   "outputs": [
    {
     "data": {
      "text/plain": [
       "False"
      ]
     },
     "execution_count": 64,
     "metadata": {},
     "output_type": "execute_result"
    }
   ],
   "source": [
    "'hi' == 'bye'"
   ]
  },
  {
   "cell_type": "code",
   "execution_count": 65,
   "id": "3ee6611f",
   "metadata": {},
   "outputs": [
    {
     "data": {
      "text/plain": [
       "False"
      ]
     },
     "execution_count": 65,
     "metadata": {},
     "output_type": "execute_result"
    }
   ],
   "source": [
    "(1>2)and(2<3)\n",
    "# and 는 둘 다 참이어야만 참이다."
   ]
  },
  {
   "cell_type": "code",
   "execution_count": 66,
   "id": "54f1ab7c",
   "metadata": {},
   "outputs": [
    {
     "data": {
      "text/plain": [
       "True"
      ]
     },
     "execution_count": 66,
     "metadata": {},
     "output_type": "execute_result"
    }
   ],
   "source": [
    "(1>2)or(2<3)\n",
    "# or 는 둘 중 하나만 참이어야 참이다."
   ]
  },
  {
   "cell_type": "code",
   "execution_count": 67,
   "id": "845e62ec",
   "metadata": {},
   "outputs": [
    {
     "data": {
      "text/plain": [
       "True"
      ]
     },
     "execution_count": 67,
     "metadata": {},
     "output_type": "execute_result"
    }
   ],
   "source": [
    "(1==2)or(2==3)or(4==4)\n",
    "# 3개(항의 개수) 중 하나만 참이면 참이다."
   ]
  },
  {
   "cell_type": "markdown",
   "id": "e3c54dc8",
   "metadata": {},
   "source": [
    "if,elif,else Statements"
   ]
  },
  {
   "cell_type": "code",
   "execution_count": 68,
   "id": "de168161",
   "metadata": {},
   "outputs": [
    {
     "name": "stdout",
     "output_type": "stream",
     "text": [
      "Yep!\n"
     ]
    }
   ],
   "source": [
    "if 1 <2:\n",
    "    print('Yep!')"
   ]
  },
  {
   "cell_type": "code",
   "execution_count": 69,
   "id": "91b63b82",
   "metadata": {},
   "outputs": [
    {
     "name": "stdout",
     "output_type": "stream",
     "text": [
      "yep!\n"
     ]
    }
   ],
   "source": [
    "if 1 <2:\n",
    "    print('yep!')"
   ]
  },
  {
   "cell_type": "code",
   "execution_count": 70,
   "id": "3302c4ca",
   "metadata": {},
   "outputs": [
    {
     "name": "stdout",
     "output_type": "stream",
     "text": [
      "last\n"
     ]
    }
   ],
   "source": [
    "if 1> 2:\n",
    "    print('first')\n",
    "else: # True가 아닐경우, if문 조건에 맞지 않을 경우\n",
    "    print('last')\n",
    "#if 문이 실행되는조건은 1>2이어야 하는데, 1은 2보다 크지 않으므로, if문이 실행되지 않고, else 문이 실행됨"
   ]
  },
  {
   "cell_type": "code",
   "execution_count": 71,
   "id": "a1e8eda2",
   "metadata": {},
   "outputs": [
    {
     "name": "stdout",
     "output_type": "stream",
     "text": [
      "middle\n"
     ]
    }
   ],
   "source": [
    "if 1 == 2:\n",
    "    print('first')\n",
    "elif 3 == 3:\n",
    "    print('middle')\n",
    "else:\n",
    "    print('Last')"
   ]
  },
  {
   "cell_type": "markdown",
   "id": "43699e4c",
   "metadata": {},
   "source": [
    "for Loops"
   ]
  },
  {
   "cell_type": "code",
   "execution_count": 72,
   "id": "218883e9",
   "metadata": {},
   "outputs": [],
   "source": [
    "seq = [1,2,3,4,5]"
   ]
  },
  {
   "cell_type": "code",
   "execution_count": 73,
   "id": "fb4dbad8",
   "metadata": {},
   "outputs": [
    {
     "name": "stdout",
     "output_type": "stream",
     "text": [
      "1\n",
      "2\n",
      "3\n",
      "4\n",
      "5\n"
     ]
    }
   ],
   "source": [
    "for item in seq:\n",
    "    print(item)"
   ]
  },
  {
   "cell_type": "code",
   "execution_count": 74,
   "id": "e9a5c38b",
   "metadata": {},
   "outputs": [
    {
     "name": "stdout",
     "output_type": "stream",
     "text": [
      "yep\n",
      "yep\n",
      "yep\n",
      "yep\n",
      "yep\n"
     ]
    }
   ],
   "source": [
    "for item in seq:\n",
    "    print('yep')"
   ]
  },
  {
   "cell_type": "code",
   "execution_count": 75,
   "id": "b7d9b006",
   "metadata": {},
   "outputs": [
    {
     "name": "stdout",
     "output_type": "stream",
     "text": [
      "2\n",
      "4\n",
      "6\n",
      "8\n",
      "10\n"
     ]
    }
   ],
   "source": [
    "for jelly in seq:\n",
    "    print(jelly+jelly)\n",
    "# seq 안에 1,2,3,4,5 가 들어있긴때문에 젤리를 넣어서 seq + seq가 된다"
   ]
  },
  {
   "cell_type": "code",
   "execution_count": 76,
   "id": "6cc1c5b2",
   "metadata": {
    "scrolled": true
   },
   "outputs": [
    {
     "name": "stdout",
     "output_type": "stream",
     "text": [
      "1\n",
      "2\n",
      "3\n",
      "4\n",
      "5\n"
     ]
    }
   ],
   "source": [
    "for a in seq:\n",
    "    print(a)"
   ]
  },
  {
   "cell_type": "code",
   "execution_count": 77,
   "id": "76b43fa7",
   "metadata": {},
   "outputs": [
    {
     "name": "stdout",
     "output_type": "stream",
     "text": [
      "2\n",
      "4\n",
      "6\n",
      "8\n",
      "10\n"
     ]
    }
   ],
   "source": [
    "for hello in seq:\n",
    "    print(hello+hello)"
   ]
  },
  {
   "cell_type": "markdown",
   "id": "d8428cb6",
   "metadata": {},
   "source": [
    "while Loops"
   ]
  },
  {
   "cell_type": "code",
   "execution_count": 78,
   "id": "c1c052ff",
   "metadata": {},
   "outputs": [
    {
     "name": "stdout",
     "output_type": "stream",
     "text": [
      "i is: 1\n",
      "i is: 2\n",
      "i is: 3\n",
      "i is: 4\n"
     ]
    }
   ],
   "source": [
    "i = 1\n",
    "while i < 5: # 5보다 작을때까지만 출력\n",
    "    print('i is: {}'.format(i)) #()에 i를 넣는다\n",
    "    i = i+1 # 그 루 i에 1을 더한다"
   ]
  },
  {
   "cell_type": "markdown",
   "id": "6c2e39a2",
   "metadata": {},
   "source": [
    "range()"
   ]
  },
  {
   "cell_type": "code",
   "execution_count": 79,
   "id": "5c18f6c1",
   "metadata": {},
   "outputs": [
    {
     "data": {
      "text/plain": [
       "range(0, 5)"
      ]
     },
     "execution_count": 79,
     "metadata": {},
     "output_type": "execute_result"
    }
   ],
   "source": [
    "range(5)\n",
    "# range는 0부터 쓴 숫자까지 출력"
   ]
  },
  {
   "cell_type": "code",
   "execution_count": 80,
   "id": "a792643e",
   "metadata": {},
   "outputs": [
    {
     "name": "stdout",
     "output_type": "stream",
     "text": [
      "0\n",
      "1\n",
      "2\n",
      "3\n",
      "4\n"
     ]
    }
   ],
   "source": [
    "for i in range(5):\n",
    "    print(i)"
   ]
  },
  {
   "cell_type": "code",
   "execution_count": 81,
   "id": "a40a7ff6",
   "metadata": {},
   "outputs": [
    {
     "data": {
      "text/plain": [
       "[0, 1, 2, 3, 4]"
      ]
     },
     "execution_count": 81,
     "metadata": {},
     "output_type": "execute_result"
    }
   ],
   "source": [
    "list(range(5))"
   ]
  },
  {
   "cell_type": "code",
   "execution_count": 82,
   "id": "2962e30d",
   "metadata": {},
   "outputs": [],
   "source": [
    "x =[1,2,3,4]"
   ]
  },
  {
   "cell_type": "code",
   "execution_count": 83,
   "id": "bf41cfc9",
   "metadata": {},
   "outputs": [
    {
     "name": "stdout",
     "output_type": "stream",
     "text": [
      "[1, 4, 9, 16]\n"
     ]
    }
   ],
   "source": [
    "out = []\n",
    "for item in x:\n",
    "    out.append(item**2) # out 이라는 이름에 list에 괄호 안 내용을 추가 해라.\n",
    "print(out)"
   ]
  },
  {
   "cell_type": "code",
   "execution_count": 84,
   "id": "b73f5521",
   "metadata": {},
   "outputs": [
    {
     "data": {
      "text/plain": [
       "[1, 4, 9, 16]"
      ]
     },
     "execution_count": 84,
     "metadata": {},
     "output_type": "execute_result"
    }
   ],
   "source": [
    "[item**2 for item in x]\n",
    "# x안에 있는 내용을 차례대로 item이라는 이름으로 뽑는다. 그런후에 item**2의 내용으로 list에 채워 넣는다."
   ]
  },
  {
   "cell_type": "markdown",
   "id": "435a7ba2",
   "metadata": {},
   "source": [
    "functions"
   ]
  },
  {
   "cell_type": "code",
   "execution_count": 85,
   "id": "114e4846",
   "metadata": {},
   "outputs": [],
   "source": [
    "# def 는 함수 명 앞에 놓여서 함수를 정의한다는 뜻.\n",
    "# (param1 = 'default')는 parameter, 함수를 실행할 때 파라미터가 입력값으로 들어가 실행된다.\n",
    "# 함수 내부에서 주석으로 처리하고자 하는 부분은 \"\"\" 로 시작하여 \"\"\" 로 끝나면 된다. 해당사항은 함수 내용에 영향을 미치지 않는다.\n",
    "# my_func라는 함수는 스트림 형태를 param1에 저장하여 param1을 프린트하는 기능을 가졌다\n",
    "# function = 함수 = 기능을 하는 것\n",
    "def my_func(param1 = 'default'):\n",
    "    \"\"\"\"\n",
    "    Docstring goes here.\n",
    "    \"\"\"\n",
    "    print(param1)"
   ]
  },
  {
   "cell_type": "code",
   "execution_count": 86,
   "id": "9078228e",
   "metadata": {},
   "outputs": [
    {
     "data": {
      "text/plain": [
       "<function __main__.my_func(param1='default')>"
      ]
     },
     "execution_count": 86,
     "metadata": {},
     "output_type": "execute_result"
    }
   ],
   "source": [
    "my_func"
   ]
  },
  {
   "cell_type": "code",
   "execution_count": 87,
   "id": "b7e4aba4",
   "metadata": {},
   "outputs": [
    {
     "name": "stdout",
     "output_type": "stream",
     "text": [
      "default\n"
     ]
    }
   ],
   "source": [
    "my_func()"
   ]
  },
  {
   "cell_type": "code",
   "execution_count": 88,
   "id": "3b81cfbf",
   "metadata": {
    "scrolled": true
   },
   "outputs": [
    {
     "name": "stdout",
     "output_type": "stream",
     "text": [
      "new param\n"
     ]
    }
   ],
   "source": [
    "my_func('new param')"
   ]
  },
  {
   "cell_type": "code",
   "execution_count": 89,
   "id": "8aa6fe07",
   "metadata": {},
   "outputs": [
    {
     "name": "stdout",
     "output_type": "stream",
     "text": [
      "new param\n"
     ]
    }
   ],
   "source": [
    "# 함수 my_func 를 통해서 파라미터에 들어가 있는 스트림 형태의 데이터를 print 하게 된다.\n",
    "my_func(param1 = 'new param')"
   ]
  },
  {
   "cell_type": "code",
   "execution_count": 90,
   "id": "1c7deef1",
   "metadata": {},
   "outputs": [],
   "source": [
    "# square 라는 이름의 함수는 숫자 하나를 받아들여서 그 숫자의 제곱값을 내 놓는 기능을 한다.\n",
    "def square(x):\n",
    "    return x**2"
   ]
  },
  {
   "cell_type": "code",
   "execution_count": 91,
   "id": "86a1631b",
   "metadata": {},
   "outputs": [],
   "source": [
    "# square라는 함수에 2라는 숫자를 파라미터로 넣어서 그 결과값을 out라는 변수에 담아 둔다.\n",
    "out = square(12)"
   ]
  },
  {
   "cell_type": "code",
   "execution_count": 92,
   "id": "a11cc0c8",
   "metadata": {},
   "outputs": [
    {
     "name": "stdout",
     "output_type": "stream",
     "text": [
      "144\n"
     ]
    }
   ],
   "source": [
    "# out에 담긴 2*2가 출력된다.\n",
    "print(out)"
   ]
  },
  {
   "cell_type": "code",
   "execution_count": 93,
   "id": "f722a75e",
   "metadata": {},
   "outputs": [
    {
     "data": {
      "text/plain": [
       "9"
      ]
     },
     "execution_count": 93,
     "metadata": {},
     "output_type": "execute_result"
    }
   ],
   "source": [
    "square(3)"
   ]
  },
  {
   "cell_type": "code",
   "execution_count": 94,
   "id": "9ff22ea1",
   "metadata": {},
   "outputs": [],
   "source": [
    "def times2(c):\n",
    "    return c*2"
   ]
  },
  {
   "cell_type": "code",
   "execution_count": 95,
   "id": "ecd90183",
   "metadata": {},
   "outputs": [],
   "source": [
    "choi = times2(2)"
   ]
  },
  {
   "cell_type": "code",
   "execution_count": 96,
   "id": "c8887895",
   "metadata": {},
   "outputs": [
    {
     "name": "stdout",
     "output_type": "stream",
     "text": [
      "4\n"
     ]
    }
   ],
   "source": [
    "print(choi)"
   ]
  },
  {
   "cell_type": "markdown",
   "id": "9c7c58cb",
   "metadata": {},
   "source": [
    "map and filter"
   ]
  },
  {
   "cell_type": "code",
   "execution_count": 97,
   "id": "e51b0cc7",
   "metadata": {},
   "outputs": [],
   "source": [
    "seq = [1,2,3,4,5]"
   ]
  },
  {
   "cell_type": "code",
   "execution_count": 98,
   "id": "b7bf9ccd",
   "metadata": {},
   "outputs": [
    {
     "data": {
      "text/plain": [
       "[2, 4, 6, 8, 10]"
      ]
     },
     "execution_count": 98,
     "metadata": {},
     "output_type": "execute_result"
    }
   ],
   "source": [
    "# 함수 times2는 *2이다, seq에 넣은 숫자들을 *2를 해서 출력한 값\n",
    "list(map(times2,seq))"
   ]
  },
  {
   "cell_type": "code",
   "execution_count": 99,
   "id": "cfbbafea",
   "metadata": {},
   "outputs": [
    {
     "data": {
      "text/plain": [
       "[2, 4, 6, 8, 10]"
      ]
     },
     "execution_count": 99,
     "metadata": {},
     "output_type": "execute_result"
    }
   ],
   "source": [
    "# lambda 함수의 뒤에 오는 두가지 a : a*2는 a를 input으로 받아서 a*2를 output으로 내 놓으라는 뜻이다.\n",
    "list(map(lambda var: var*2,seq))"
   ]
  },
  {
   "cell_type": "code",
   "execution_count": 100,
   "id": "a4c4c7a6",
   "metadata": {},
   "outputs": [
    {
     "data": {
      "text/plain": [
       "[3, 6, 9, 12, 15]"
      ]
     },
     "execution_count": 100,
     "metadata": {},
     "output_type": "execute_result"
    }
   ],
   "source": [
    "list(map(lambda var : var*3,seq))"
   ]
  },
  {
   "cell_type": "code",
   "execution_count": 101,
   "id": "2a7d729d",
   "metadata": {},
   "outputs": [
    {
     "data": {
      "text/plain": [
       "[0.5, 1.0, 1.5, 2.0, 2.5]"
      ]
     },
     "execution_count": 101,
     "metadata": {},
     "output_type": "execute_result"
    }
   ],
   "source": [
    "list(map(lambda var : var*1/2,seq))"
   ]
  },
  {
   "cell_type": "code",
   "execution_count": 102,
   "id": "6991bd20",
   "metadata": {},
   "outputs": [
    {
     "data": {
      "text/plain": [
       "[2, 4]"
      ]
     },
     "execution_count": 102,
     "metadata": {},
     "output_type": "execute_result"
    }
   ],
   "source": [
    "list(map(lambda var : var*2,seq[0:2]))\n",
    "#map = 하나씩 대입"
   ]
  },
  {
   "cell_type": "code",
   "execution_count": 103,
   "id": "165b3ce8",
   "metadata": {
    "scrolled": true
   },
   "outputs": [
    {
     "data": {
      "text/plain": [
       "[2, 4]"
      ]
     },
     "execution_count": 103,
     "metadata": {},
     "output_type": "execute_result"
    }
   ],
   "source": [
    "#filter = 조건이 맞을때만 출력하는 것이다. 그래서 lambda에 item이라는 변수에 seq의 리스트 내용 중 앞에서부터 하나씩 넣었을 때 해당 item을 2로 나눈 나머지가 0인 것만 빼서 출력한다\n",
    "list(filter(lambda item : item %2==0,seq))"
   ]
  },
  {
   "cell_type": "code",
   "execution_count": 104,
   "id": "18bf82ed",
   "metadata": {},
   "outputs": [
    {
     "data": {
      "text/plain": [
       "[1, 3, 5]"
      ]
     },
     "execution_count": 104,
     "metadata": {},
     "output_type": "execute_result"
    }
   ],
   "source": [
    "list(filter(lambda item : item %2==1,seq))"
   ]
  },
  {
   "cell_type": "code",
   "execution_count": 105,
   "id": "8b83406f",
   "metadata": {},
   "outputs": [],
   "source": [
    "t = lambda var:var*2"
   ]
  },
  {
   "cell_type": "code",
   "execution_count": 106,
   "id": "24291d76",
   "metadata": {},
   "outputs": [
    {
     "data": {
      "text/plain": [
       "48"
      ]
     },
     "execution_count": 106,
     "metadata": {},
     "output_type": "execute_result"
    }
   ],
   "source": [
    "t(24)"
   ]
  },
  {
   "cell_type": "markdown",
   "id": "160b0209",
   "metadata": {},
   "source": [
    "methods"
   ]
  },
  {
   "cell_type": "code",
   "execution_count": 107,
   "id": "1aa6360a",
   "metadata": {},
   "outputs": [],
   "source": [
    "st = 'hello my name is Sam'"
   ]
  },
  {
   "cell_type": "code",
   "execution_count": 108,
   "id": "3d2cd7bb",
   "metadata": {},
   "outputs": [
    {
     "data": {
      "text/plain": [
       "'hello my name is sam'"
      ]
     },
     "execution_count": 108,
     "metadata": {},
     "output_type": "execute_result"
    }
   ],
   "source": [
    "st.lower()"
   ]
  },
  {
   "cell_type": "code",
   "execution_count": 109,
   "id": "7c471d43",
   "metadata": {},
   "outputs": [
    {
     "data": {
      "text/plain": [
       "'HELLO MY NAME IS SAM'"
      ]
     },
     "execution_count": 109,
     "metadata": {},
     "output_type": "execute_result"
    }
   ],
   "source": [
    "st.upper()"
   ]
  },
  {
   "cell_type": "code",
   "execution_count": 110,
   "id": "b1c3bf34",
   "metadata": {},
   "outputs": [
    {
     "data": {
      "text/plain": [
       "['hello', 'my', 'name', 'is', 'Sam']"
      ]
     },
     "execution_count": 110,
     "metadata": {},
     "output_type": "execute_result"
    }
   ],
   "source": [
    "st.split()"
   ]
  },
  {
   "cell_type": "code",
   "execution_count": 111,
   "id": "7be5d9d2",
   "metadata": {},
   "outputs": [],
   "source": [
    "tweet = 'Go Sports! #Sports'"
   ]
  },
  {
   "cell_type": "code",
   "execution_count": 112,
   "id": "98a4d8eb",
   "metadata": {},
   "outputs": [
    {
     "data": {
      "text/plain": [
       "'Go Sports! #Sports'"
      ]
     },
     "execution_count": 112,
     "metadata": {},
     "output_type": "execute_result"
    }
   ],
   "source": [
    "tweet"
   ]
  },
  {
   "cell_type": "code",
   "execution_count": 113,
   "id": "1a8bd169",
   "metadata": {},
   "outputs": [
    {
     "data": {
      "text/plain": [
       "['Go Sports! ', 'Sports']"
      ]
     },
     "execution_count": 113,
     "metadata": {},
     "output_type": "execute_result"
    }
   ],
   "source": [
    "tweet.split(\"#\")"
   ]
  },
  {
   "cell_type": "code",
   "execution_count": 114,
   "id": "a43f9821",
   "metadata": {},
   "outputs": [
    {
     "data": {
      "text/plain": [
       "'Sports'"
      ]
     },
     "execution_count": 114,
     "metadata": {},
     "output_type": "execute_result"
    }
   ],
   "source": [
    "tweet.split(\"#\")[1]"
   ]
  },
  {
   "cell_type": "code",
   "execution_count": 115,
   "id": "1ea28ec2",
   "metadata": {},
   "outputs": [],
   "source": [
    "# dic1 은 dictionary라는 형태의 데이터 타입\n",
    "#dictionary의 데이터는 key와 value로 구성되어 있다.\n",
    "dic1 = {'a':1, 'b':2, 'c':3}"
   ]
  },
  {
   "cell_type": "code",
   "execution_count": 116,
   "id": "df927a46",
   "metadata": {},
   "outputs": [
    {
     "data": {
      "text/plain": [
       "{'a': 1, 'b': 2, 'c': 3}"
      ]
     },
     "execution_count": 116,
     "metadata": {},
     "output_type": "execute_result"
    }
   ],
   "source": [
    "dic1"
   ]
  },
  {
   "cell_type": "code",
   "execution_count": 117,
   "id": "8f648aa4",
   "metadata": {},
   "outputs": [
    {
     "data": {
      "text/plain": [
       "dict_keys(['a', 'b', 'c'])"
      ]
     },
     "execution_count": 117,
     "metadata": {},
     "output_type": "execute_result"
    }
   ],
   "source": [
    "dic1.keys()"
   ]
  },
  {
   "cell_type": "code",
   "execution_count": 118,
   "id": "1bc2a8ed",
   "metadata": {
    "scrolled": true
   },
   "outputs": [
    {
     "data": {
      "text/plain": [
       "dict_items([('a', 1), ('b', 2), ('c', 3)])"
      ]
     },
     "execution_count": 118,
     "metadata": {},
     "output_type": "execute_result"
    }
   ],
   "source": [
    "dic1.items()"
   ]
  },
  {
   "cell_type": "code",
   "execution_count": 119,
   "id": "58e1e927",
   "metadata": {},
   "outputs": [
    {
     "data": {
      "text/plain": [
       "dict_values([1, 2, 3])"
      ]
     },
     "execution_count": 119,
     "metadata": {},
     "output_type": "execute_result"
    }
   ],
   "source": [
    "dic1.values()"
   ]
  },
  {
   "cell_type": "code",
   "execution_count": 120,
   "id": "320e306a",
   "metadata": {},
   "outputs": [],
   "source": [
    "lst = [1,2,3,4,5,6,7]"
   ]
  },
  {
   "cell_type": "code",
   "execution_count": 121,
   "id": "b66e2a52",
   "metadata": {},
   "outputs": [],
   "source": [
    "popednumber = lst.pop()"
   ]
  },
  {
   "cell_type": "code",
   "execution_count": 122,
   "id": "4485dff7",
   "metadata": {},
   "outputs": [
    {
     "data": {
      "text/plain": [
       "7"
      ]
     },
     "execution_count": 122,
     "metadata": {},
     "output_type": "execute_result"
    }
   ],
   "source": [
    "popednumber"
   ]
  },
  {
   "cell_type": "code",
   "execution_count": 123,
   "id": "c1f74da0",
   "metadata": {},
   "outputs": [],
   "source": [
    "popednumber1 = lst.pop()"
   ]
  },
  {
   "cell_type": "code",
   "execution_count": 124,
   "id": "03f64db9",
   "metadata": {},
   "outputs": [
    {
     "data": {
      "text/plain": [
       "6"
      ]
     },
     "execution_count": 124,
     "metadata": {},
     "output_type": "execute_result"
    }
   ],
   "source": [
    "popednumber1"
   ]
  },
  {
   "cell_type": "code",
   "execution_count": 125,
   "id": "2e881d88",
   "metadata": {},
   "outputs": [
    {
     "data": {
      "text/plain": [
       "[1, 2, 3, 4, 5]"
      ]
     },
     "execution_count": 125,
     "metadata": {},
     "output_type": "execute_result"
    }
   ],
   "source": [
    "lst"
   ]
  },
  {
   "cell_type": "code",
   "execution_count": 126,
   "id": "25034f5a",
   "metadata": {},
   "outputs": [
    {
     "data": {
      "text/plain": [
       "5"
      ]
     },
     "execution_count": 126,
     "metadata": {},
     "output_type": "execute_result"
    }
   ],
   "source": [
    "lst.pop()"
   ]
  },
  {
   "cell_type": "code",
   "execution_count": 127,
   "id": "65b8bf9e",
   "metadata": {},
   "outputs": [
    {
     "data": {
      "text/plain": [
       "[1, 2, 3, 4]"
      ]
     },
     "execution_count": 127,
     "metadata": {},
     "output_type": "execute_result"
    }
   ],
   "source": [
    "lst"
   ]
  },
  {
   "cell_type": "code",
   "execution_count": 128,
   "id": "37a9e884",
   "metadata": {},
   "outputs": [],
   "source": [
    "lst = [1,2,3,4]"
   ]
  },
  {
   "cell_type": "code",
   "execution_count": 129,
   "id": "29d979e4",
   "metadata": {},
   "outputs": [],
   "source": [
    "popednumber2 = lst.pop(0)"
   ]
  },
  {
   "cell_type": "code",
   "execution_count": 130,
   "id": "6f2ebc14",
   "metadata": {},
   "outputs": [
    {
     "data": {
      "text/plain": [
       "1"
      ]
     },
     "execution_count": 130,
     "metadata": {},
     "output_type": "execute_result"
    }
   ],
   "source": [
    "popednumber2"
   ]
  },
  {
   "cell_type": "code",
   "execution_count": 131,
   "id": "b6a97a16",
   "metadata": {},
   "outputs": [
    {
     "data": {
      "text/plain": [
       "[2, 3, 4]"
      ]
     },
     "execution_count": 131,
     "metadata": {},
     "output_type": "execute_result"
    }
   ],
   "source": [
    "lst"
   ]
  },
  {
   "cell_type": "code",
   "execution_count": 132,
   "id": "ac56c330",
   "metadata": {},
   "outputs": [],
   "source": [
    "lst.append('new')\n",
    "# append는 추가한다는 뜻으로 문자나 숫자를 추가 가능하다\n",
    "#실수로 여러번 추가 했으면 pop()로 맨뒤에 있는 것을 지운다"
   ]
  },
  {
   "cell_type": "code",
   "execution_count": 133,
   "id": "048dbcef",
   "metadata": {},
   "outputs": [
    {
     "data": {
      "text/plain": [
       "'new'"
      ]
     },
     "execution_count": 133,
     "metadata": {},
     "output_type": "execute_result"
    }
   ],
   "source": [
    "lst.pop()"
   ]
  },
  {
   "cell_type": "code",
   "execution_count": 134,
   "id": "0f6800a9",
   "metadata": {},
   "outputs": [
    {
     "data": {
      "text/plain": [
       "[2, 3, 4]"
      ]
     },
     "execution_count": 134,
     "metadata": {},
     "output_type": "execute_result"
    }
   ],
   "source": [
    "lst"
   ]
  },
  {
   "cell_type": "code",
   "execution_count": 135,
   "id": "de216b47",
   "metadata": {},
   "outputs": [
    {
     "data": {
      "text/plain": [
       "False"
      ]
     },
     "execution_count": 135,
     "metadata": {},
     "output_type": "execute_result"
    }
   ],
   "source": [
    "'x'in[1,2,3]\n",
    "#x라는 문자가 뒤에 리스트에 들어있는지 물어보는 것 리스트안에 없으므로 Flase가 나온다"
   ]
  },
  {
   "cell_type": "code",
   "execution_count": 136,
   "id": "fc2208b6",
   "metadata": {},
   "outputs": [
    {
     "data": {
      "text/plain": [
       "True"
      ]
     },
     "execution_count": 136,
     "metadata": {},
     "output_type": "execute_result"
    }
   ],
   "source": [
    "'x'in['x','y','z']\n",
    "#리스트 안에 x 가 들어있으므로 Ture가 나온다"
   ]
  },
  {
   "cell_type": "code",
   "execution_count": 137,
   "id": "268ec05e",
   "metadata": {},
   "outputs": [],
   "source": [
    "x = [(1,2,), (3,4), (5,6)]"
   ]
  },
  {
   "cell_type": "code",
   "execution_count": 138,
   "id": "e6cc81ee",
   "metadata": {},
   "outputs": [
    {
     "data": {
      "text/plain": [
       "(1, 2)"
      ]
     },
     "execution_count": 138,
     "metadata": {},
     "output_type": "execute_result"
    }
   ],
   "source": [
    "x[0]"
   ]
  },
  {
   "cell_type": "code",
   "execution_count": 139,
   "id": "c6836c0d",
   "metadata": {},
   "outputs": [
    {
     "data": {
      "text/plain": [
       "2"
      ]
     },
     "execution_count": 139,
     "metadata": {},
     "output_type": "execute_result"
    }
   ],
   "source": [
    "x[0][1]"
   ]
  },
  {
   "cell_type": "code",
   "execution_count": 140,
   "id": "dd75268a",
   "metadata": {
    "scrolled": false
   },
   "outputs": [
    {
     "name": "stdout",
     "output_type": "stream",
     "text": [
      "(1, 2)\n",
      "(3, 4)\n",
      "(5, 6)\n"
     ]
    }
   ],
   "source": [
    "for 아잉 in x:\n",
    "    print(아잉)"
   ]
  },
  {
   "cell_type": "code",
   "execution_count": 141,
   "id": "33263511",
   "metadata": {},
   "outputs": [
    {
     "name": "stdout",
     "output_type": "stream",
     "text": [
      "2\n",
      "4\n",
      "6\n"
     ]
    }
   ],
   "source": [
    "for (아잉, 사랑해) in x:\n",
    "    print(사랑해)"
   ]
  },
  {
   "cell_type": "code",
   "execution_count": 142,
   "id": "97301322",
   "metadata": {},
   "outputs": [
    {
     "name": "stdout",
     "output_type": "stream",
     "text": [
      "1\n",
      "2\n",
      "3\n",
      "4\n",
      "5\n",
      "6\n"
     ]
    }
   ],
   "source": [
    "# for a,b in x: 와 같이 적어도 똑같다.\n",
    "for (아잉, 사랑해) in x:\n",
    "    print(아잉)\n",
    "    print(사랑해)"
   ]
  },
  {
   "cell_type": "code",
   "execution_count": 143,
   "id": "df5d3ef0",
   "metadata": {},
   "outputs": [],
   "source": [
    "x[1:] = \"new\""
   ]
  },
  {
   "cell_type": "code",
   "execution_count": 144,
   "id": "12b84fde",
   "metadata": {},
   "outputs": [
    {
     "data": {
      "text/plain": [
       "[(1, 2), 'n', 'e', 'w']"
      ]
     },
     "execution_count": 144,
     "metadata": {},
     "output_type": "execute_result"
    }
   ],
   "source": [
    "x"
   ]
  },
  {
   "cell_type": "code",
   "execution_count": 145,
   "id": "90857cb9",
   "metadata": {},
   "outputs": [],
   "source": [
    "def findDog(st):\n",
    "    return 'dog' in st.lower().split()"
   ]
  },
  {
   "cell_type": "code",
   "execution_count": 146,
   "id": "8780e135",
   "metadata": {
    "scrolled": true
   },
   "outputs": [
    {
     "data": {
      "text/plain": [
       "True"
      ]
     },
     "execution_count": 146,
     "metadata": {},
     "output_type": "execute_result"
    }
   ],
   "source": [
    "findDog('Is there a dog here?')"
   ]
  },
  {
   "cell_type": "code",
   "execution_count": 148,
   "id": "37bfb48b",
   "metadata": {},
   "outputs": [
    {
     "data": {
      "text/plain": [
       "'is there a dog here?'"
      ]
     },
     "execution_count": 148,
     "metadata": {},
     "output_type": "execute_result"
    }
   ],
   "source": [
    "def findDog(st):\n",
    "    return st.lower()\n",
    "findDog('Is there a dog here?')"
   ]
  },
  {
   "cell_type": "code",
   "execution_count": 149,
   "id": "7406ef45",
   "metadata": {},
   "outputs": [
    {
     "data": {
      "text/plain": [
       "['Is', 'there', 'a', 'dog', 'here?']"
      ]
     },
     "execution_count": 149,
     "metadata": {},
     "output_type": "execute_result"
    }
   ],
   "source": [
    "def findDog(st):\n",
    "    return st.split()\n",
    "findDog('Is there a dog here?')"
   ]
  },
  {
   "cell_type": "code",
   "execution_count": 154,
   "id": "f75b8c7d",
   "metadata": {},
   "outputs": [],
   "source": [
    "def findCat(st):\n",
    "    return 'cat' in st.lower().split()"
   ]
  },
  {
   "cell_type": "code",
   "execution_count": 155,
   "id": "1f8ec873",
   "metadata": {},
   "outputs": [
    {
     "data": {
      "text/plain": [
       "False"
      ]
     },
     "execution_count": 155,
     "metadata": {},
     "output_type": "execute_result"
    }
   ],
   "source": [
    "findCat('dog good')"
   ]
  },
  {
   "cell_type": "code",
   "execution_count": 157,
   "id": "22ed4746",
   "metadata": {},
   "outputs": [],
   "source": [
    "def countDog(st):\n",
    "    count = 0\n",
    "    for word in st.lower().split():\n",
    "        if word == 'dog':\n",
    "            count += 1\n",
    "    return count"
   ]
  },
  {
   "cell_type": "code",
   "execution_count": 158,
   "id": "651ab533",
   "metadata": {},
   "outputs": [
    {
     "data": {
      "text/plain": [
       "2"
      ]
     },
     "execution_count": 158,
     "metadata": {},
     "output_type": "execute_result"
    }
   ],
   "source": [
    "countDog('This dog runs faster than the other dog dude!')"
   ]
  },
  {
   "cell_type": "code",
   "execution_count": 160,
   "id": "3d18f85c",
   "metadata": {},
   "outputs": [],
   "source": [
    "seq = ['soup','dog','salad','cat','great']"
   ]
  },
  {
   "cell_type": "code",
   "execution_count": 161,
   "id": "f7bdc2f7",
   "metadata": {},
   "outputs": [
    {
     "data": {
      "text/plain": [
       "['soup', 'salad']"
      ]
     },
     "execution_count": 161,
     "metadata": {},
     "output_type": "execute_result"
    }
   ],
   "source": [
    "list(filter(lambda word: word[0]=='s',seq))"
   ]
  },
  {
   "cell_type": "code",
   "execution_count": 192,
   "id": "09812fb4",
   "metadata": {},
   "outputs": [],
   "source": [
    "def counts(st):\n",
    "    count = 0\n",
    "    for words in st.lower():\n",
    "        if words == 's':\n",
    "            count += 1\n",
    "    return count"
   ]
  },
  {
   "cell_type": "code",
   "execution_count": 193,
   "id": "5e522d56",
   "metadata": {},
   "outputs": [
    {
     "data": {
      "text/plain": [
       "2"
      ]
     },
     "execution_count": 193,
     "metadata": {},
     "output_type": "execute_result"
    }
   ],
   "source": [
    "counts('soup, dog, salad, cat, great')"
   ]
  },
  {
   "cell_type": "code",
   "execution_count": 197,
   "id": "c2d4ec06",
   "metadata": {},
   "outputs": [],
   "source": [
    "def counts(st1):\n",
    "    count = 0\n",
    "    for words in st1.lower().split():\n",
    "        if words[0] == 's':\n",
    "            count += 1\n",
    "    return count"
   ]
  },
  {
   "cell_type": "code",
   "execution_count": 198,
   "id": "0db33c86",
   "metadata": {},
   "outputs": [
    {
     "data": {
      "text/plain": [
       "2"
      ]
     },
     "execution_count": 198,
     "metadata": {},
     "output_type": "execute_result"
    }
   ],
   "source": [
    "st2 = 'soup dog salad catgreat'\n",
    "counts(st2)"
   ]
  },
  {
   "cell_type": "code",
   "execution_count": 210,
   "id": "6d3c0f2d",
   "metadata": {},
   "outputs": [],
   "source": [
    "def caught_speeding(number):\n",
    "\n",
    "    if number >= 90:\n",
    "        print('A')\n",
    "    elif number >= 80:\n",
    "        print('B')\n",
    "    elif number >= 70:\n",
    "        print('C')\n",
    "    elif number<70:\n",
    "        print('낙제')"
   ]
  },
  {
   "cell_type": "code",
   "execution_count": 215,
   "id": "6f6db9e6",
   "metadata": {},
   "outputs": [
    {
     "name": "stdout",
     "output_type": "stream",
     "text": [
      "A\n"
     ]
    }
   ],
   "source": [
    "caught_speeding(100)"
   ]
  }
 ],
 "metadata": {
  "kernelspec": {
   "display_name": "Python 3 (ipykernel)",
   "language": "python",
   "name": "python3"
  },
  "language_info": {
   "codemirror_mode": {
    "name": "ipython",
    "version": 3
   },
   "file_extension": ".py",
   "mimetype": "text/x-python",
   "name": "python",
   "nbconvert_exporter": "python",
   "pygments_lexer": "ipython3",
   "version": "3.9.13"
  }
 },
 "nbformat": 4,
 "nbformat_minor": 5
}

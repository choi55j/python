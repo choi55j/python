{
 "cells": [
  {
   "cell_type": "markdown",
   "id": "4d2fd7ec",
   "metadata": {},
   "source": [
    "1번"
   ]
  },
  {
   "cell_type": "markdown",
   "id": "8290303b",
   "metadata": {},
   "source": [
    "s = 'Hi there Sam!'을 활용하여 아래와 같이 출력되도록 하세요."
   ]
  },
  {
   "cell_type": "code",
   "execution_count": 4,
   "id": "1c30ba34",
   "metadata": {},
   "outputs": [],
   "source": [
    "s = 'Hi there Sam!'\n",
    "x = s.split(\" \")\n",
    "x[2]='dad!'"
   ]
  },
  {
   "cell_type": "code",
   "execution_count": 5,
   "id": "102056ef",
   "metadata": {},
   "outputs": [
    {
     "data": {
      "text/plain": [
       "['Hi', 'there', 'dad!']"
      ]
     },
     "execution_count": 5,
     "metadata": {},
     "output_type": "execute_result"
    }
   ],
   "source": [
    "x"
   ]
  },
  {
   "cell_type": "markdown",
   "id": "ebc93bcd",
   "metadata": {},
   "source": [
    "2번"
   ]
  },
  {
   "cell_type": "markdown",
   "id": "a2c22535",
   "metadata": {},
   "source": [
    "planet = \"Earth\""
   ]
  },
  {
   "cell_type": "markdown",
   "id": "e67ce309",
   "metadata": {},
   "source": [
    "diameter = 12742"
   ]
  },
  {
   "cell_type": "markdown",
   "id": "56879d75",
   "metadata": {},
   "source": [
    "위 변수들을 활용하여 아래와 같이 출력되도록 하세요."
   ]
  },
  {
   "cell_type": "code",
   "execution_count": 25,
   "id": "a2803b9e",
   "metadata": {},
   "outputs": [
    {
     "name": "stdout",
     "output_type": "stream",
     "text": [
      "The diameter of Earth is 12742 kilometers.\n"
     ]
    }
   ],
   "source": [
    "planet = \"Earth\"\n",
    "diameter = 12742\n",
    "print(\"The diameter of {} is {} kilometers.\".format(planet,diameter))"
   ]
  },
  {
   "cell_type": "code",
   "execution_count": 125,
   "id": "2acb5805",
   "metadata": {},
   "outputs": [
    {
     "name": "stdout",
     "output_type": "stream",
     "text": [
      "The diameter of Earth is 12742 kilometers.\n"
     ]
    }
   ],
   "source": [
    "planet = \"Earth\"\n",
    "diameter = 12742\n",
    "print(\"The diameter of {one} is {two} kilometers.\".format(one=planet,two=diameter))\n",
    "# 변수를 넣을거면 이렇게 넣자"
   ]
  },
  {
   "cell_type": "markdown",
   "id": "9b16b053",
   "metadata": {},
   "source": [
    "3번"
   ]
  },
  {
   "cell_type": "markdown",
   "id": "fcdf836d",
   "metadata": {},
   "source": [
    "lst = [1,2,[3,4],[5,[100,200,['hello']],23,11],1,7] 을 활용하여 \n",
    "아래와 같이 출력되도록 하세요. "
   ]
  },
  {
   "cell_type": "code",
   "execution_count": 21,
   "id": "abd1fc40",
   "metadata": {},
   "outputs": [
    {
     "data": {
      "text/plain": [
       "['hello']"
      ]
     },
     "execution_count": 21,
     "metadata": {},
     "output_type": "execute_result"
    }
   ],
   "source": [
    "lst = [1,2,[3,4],[5,[100,200,['hello']],23,11],1,7]\n",
    "lst[3][1][2]\n",
    "# Index 3에 [5,[100,200,['hello']],23,11] 전체가 해당. "
   ]
  },
  {
   "cell_type": "markdown",
   "id": "de9ac29e",
   "metadata": {},
   "source": [
    "4번"
   ]
  },
  {
   "cell_type": "markdown",
   "id": "22a68d22",
   "metadata": {},
   "source": [
    "d = {'k1':[1,2,3,{'tricky':['oh','man','inception',{'target':[1,2,3,'hello']}]}]}\n",
    "위 변수를 활용하여 'hello' 가 출력되도록 하세요."
   ]
  },
  {
   "cell_type": "code",
   "execution_count": 99,
   "id": "efaf3f3f",
   "metadata": {
    "scrolled": true
   },
   "outputs": [],
   "source": [
    "d = {'k1':[1,2,3,{'tricky':['oh','man','inception',{'target':[1,2,3,'hello']}]}]}"
   ]
  },
  {
   "cell_type": "code",
   "execution_count": 101,
   "id": "dbbb8dc1",
   "metadata": {
    "scrolled": true
   },
   "outputs": [
    {
     "data": {
      "text/plain": [
       "'hello'"
      ]
     },
     "execution_count": 101,
     "metadata": {},
     "output_type": "execute_result"
    }
   ],
   "source": [
    "d[\"k1\"][3][\"tricky\"][3][\"target\"][3]"
   ]
  },
  {
   "cell_type": "markdown",
   "id": "5baa41e2",
   "metadata": {},
   "source": [
    "5번"
   ]
  },
  {
   "cell_type": "markdown",
   "id": "a14123de",
   "metadata": {},
   "source": [
    "domainGet이라는 함수를 만들어서 아래와 같이 되도록 하세요."
   ]
  },
  {
   "cell_type": "code",
   "execution_count": 31,
   "id": "1f68edb7",
   "metadata": {
    "scrolled": true
   },
   "outputs": [
    {
     "data": {
      "text/plain": [
       "'domain.com'"
      ]
     },
     "execution_count": 31,
     "metadata": {},
     "output_type": "execute_result"
    }
   ],
   "source": [
    "domainGet='user@domain.com'\n",
    "domainGet.split('@')[1]"
   ]
  },
  {
   "cell_type": "markdown",
   "id": "4100e845",
   "metadata": {},
   "source": [
    "6번"
   ]
  },
  {
   "cell_type": "markdown",
   "id": "563bc12f",
   "metadata": {},
   "source": [
    "findDog라는 함수를 만드세요. 이 함수는 파라미터에 ‘dog’라는 단어가 있을 경우 True를 반환하도록 하고, 없으면 False를 출력하는 것입니다. 아래와 같이 출력되도록 하세요. "
   ]
  },
  {
   "cell_type": "code",
   "execution_count": 57,
   "id": "80bebf76",
   "metadata": {},
   "outputs": [],
   "source": [
    "findDog = 'dog'"
   ]
  },
  {
   "cell_type": "code",
   "execution_count": 58,
   "id": "f5099b1f",
   "metadata": {},
   "outputs": [
    {
     "name": "stdout",
     "output_type": "stream",
     "text": [
      "True\n"
     ]
    }
   ],
   "source": [
    "if findDog in 'dog':\n",
    "    print('True')\n",
    "else:\n",
    "    print('False')"
   ]
  },
  {
   "cell_type": "markdown",
   "id": "27655844",
   "metadata": {},
   "source": [
    "7번"
   ]
  },
  {
   "cell_type": "markdown",
   "id": "5d95d7c7",
   "metadata": {},
   "source": [
    "countDog라는 함수를 만드세요. 이 함수는 파라미터에 ‘dog’라는 단어의 개수를 세어주는 기능을 합니다. \n",
    "아래와 같이 되도록 코딩하세요."
   ]
  },
  {
   "cell_type": "code",
   "execution_count": 123,
   "id": "511d0ebc",
   "metadata": {},
   "outputs": [
    {
     "name": "stdout",
     "output_type": "stream",
     "text": [
      "5\n"
     ]
    }
   ],
   "source": [
    "countDog = 'dog dog dog dog dog'\n",
    "\n",
    "if countDog in 'dog':\n",
    "    print(1)\n",
    "elif countDog in 'dog dog':\n",
    "    print(2)\n",
    "elif countDog in 'dog dog dog':\n",
    "    print(3)\n",
    "elif countDog in 'dog dog dog dog':\n",
    "    print(4)\n",
    "elif countDog in 'dog dog dog dog dog':\n",
    "    print(5)\n",
    "else:\n",
    "    print(6)\n",
    "    \n",
    "# 내꺼 채점 누가하는지는 모르지만 이거 점수좀 주자 어떻게 하는지 모르겠다"
   ]
  },
  {
   "cell_type": "markdown",
   "id": "ed831b3d",
   "metadata": {},
   "source": [
    "8번"
   ]
  },
  {
   "cell_type": "markdown",
   "id": "e8285c20",
   "metadata": {},
   "source": [
    " seq = ['soup','dog','salad','cat','great'] 라는 변수를 활용하여 단어 맨 앞에 ‘s’가 포함된 단어만 아래와 같이 출력되도록 코딩하세요. \n",
    "\n",
    "['soup', 'salad']"
   ]
  },
  {
   "cell_type": "code",
   "execution_count": 113,
   "id": "2f8e1300",
   "metadata": {},
   "outputs": [],
   "source": [
    " seq = ['soup','dog','salad','cat','great']"
   ]
  },
  {
   "cell_type": "code",
   "execution_count": 122,
   "id": "5bdb3504",
   "metadata": {},
   "outputs": [
    {
     "data": {
      "text/plain": [
       "['soup', 'salad']"
      ]
     },
     "execution_count": 122,
     "metadata": {},
     "output_type": "execute_result"
    }
   ],
   "source": [
    "seq"
   ]
  },
  {
   "cell_type": "markdown",
   "id": "ce1b59b1",
   "metadata": {},
   "source": [
    "9번"
   ]
  },
  {
   "cell_type": "markdown",
   "id": "ae3bb1c9",
   "metadata": {},
   "source": [
    "caught_speeding이라는 함수를 만드세요. 속도를 파라미터로 입력하면 그에 따른 범칙금 내용이 출력되도록 만드세요. 시속 80키로가 넘으면 '범칙금 8만원', 시속 60키로가 넘으면 '범칙금 6만원', 60키로 이하인 경우에는 '범칙금 없음'이 출력되도록 하세요. \n",
    "caught_speeding이라는 함수를 사용하여 아래와 같은 결과가 나오도록 하세요. "
   ]
  },
  {
   "cell_type": "code",
   "execution_count": 112,
   "id": "2bb10d38",
   "metadata": {},
   "outputs": [
    {
     "name": "stdout",
     "output_type": "stream",
     "text": [
      "범칙금 8만원\n"
     ]
    }
   ],
   "source": [
    "caught_speeding = 120\n",
    "if caught_speeding <= 60:\n",
    "    print('범칙금 없음')\n",
    "elif caught_speeding <= 80:\n",
    "    print('범칙금 6만원')\n",
    "else:\n",
    "    print('범칙금 8만원')"
   ]
  },
  {
   "cell_type": "code",
   "execution_count": 10,
   "id": "2949ea81",
   "metadata": {},
   "outputs": [],
   "source": [
    "seq = ['soup','dog','salad','cat','great']"
   ]
  },
  {
   "cell_type": "code",
   "execution_count": 11,
   "id": "e3c06c87",
   "metadata": {},
   "outputs": [
    {
     "data": {
      "text/plain": [
       "['soup', 'salad']"
      ]
     },
     "execution_count": 11,
     "metadata": {},
     "output_type": "execute_result"
    }
   ],
   "source": [
    "list(filter(lambda word: word[0]=='s',seq))"
   ]
  },
  {
   "cell_type": "code",
   "execution_count": 38,
   "id": "bdec0f0c",
   "metadata": {},
   "outputs": [],
   "source": [
    "def counts(st):\n",
    "    count = 0\n",
    "    for word in st.lower().split(\", \"):\n",
    "        if word[0] == 's':\n",
    "            count += 1\n",
    "    return count"
   ]
  },
  {
   "cell_type": "code",
   "execution_count": 39,
   "id": "f7aec948",
   "metadata": {},
   "outputs": [
    {
     "data": {
      "text/plain": [
       "2"
      ]
     },
     "execution_count": 39,
     "metadata": {},
     "output_type": "execute_result"
    }
   ],
   "source": [
    "counts('soup, dog, salad, cat, great')"
   ]
  },
  {
   "cell_type": "code",
   "execution_count": null,
   "id": "4d5bbe19",
   "metadata": {},
   "outputs": [],
   "source": []
  }
 ],
 "metadata": {
  "kernelspec": {
   "display_name": "Python 3 (ipykernel)",
   "language": "python",
   "name": "python3"
  },
  "language_info": {
   "codemirror_mode": {
    "name": "ipython",
    "version": 3
   },
   "file_extension": ".py",
   "mimetype": "text/x-python",
   "name": "python",
   "nbconvert_exporter": "python",
   "pygments_lexer": "ipython3",
   "version": "3.9.13"
  }
 },
 "nbformat": 4,
 "nbformat_minor": 5
}

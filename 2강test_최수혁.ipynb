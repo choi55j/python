{
 "cells": [
  {
   "cell_type": "code",
   "execution_count": 256,
   "id": "0c154f9d",
   "metadata": {},
   "outputs": [
    {
     "data": {
      "text/plain": [
       "array([ 0,  1,  2,  3,  4,  5,  6,  7,  8,  9, 10])"
      ]
     },
     "execution_count": 256,
     "metadata": {},
     "output_type": "execute_result"
    }
   ],
   "source": [
    "import numpy as np\n",
    "np.arange(0,11)"
   ]
  },
  {
   "cell_type": "code",
   "execution_count": 257,
   "id": "12599998",
   "metadata": {},
   "outputs": [
    {
     "data": {
      "text/plain": [
       "array([0., 0., 0., 0., 0., 0., 0., 0., 0., 0.])"
      ]
     },
     "execution_count": 257,
     "metadata": {},
     "output_type": "execute_result"
    }
   ],
   "source": [
    "np.zeros(10)"
   ]
  },
  {
   "cell_type": "code",
   "execution_count": 258,
   "id": "5c4b1c41",
   "metadata": {},
   "outputs": [
    {
     "data": {
      "text/plain": [
       "array([1., 1., 1., 1., 1., 1., 1., 1., 1., 1.])"
      ]
     },
     "execution_count": 258,
     "metadata": {},
     "output_type": "execute_result"
    }
   ],
   "source": [
    "np.ones(10)"
   ]
  },
  {
   "cell_type": "code",
   "execution_count": 278,
   "id": "e6042b49",
   "metadata": {
    "scrolled": true
   },
   "outputs": [
    {
     "data": {
      "text/plain": [
       "array([5., 5., 5., 5., 5., 5., 5., 5., 5., 5.])"
      ]
     },
     "execution_count": 278,
     "metadata": {},
     "output_type": "execute_result"
    }
   ],
   "source": [
    "np.ones(10)*5"
   ]
  },
  {
   "cell_type": "code",
   "execution_count": 260,
   "id": "eb909073",
   "metadata": {
    "scrolled": true
   },
   "outputs": [
    {
     "data": {
      "text/plain": [
       "array([10, 11, 12, 13, 14, 15, 16, 17, 18, 19, 20, 21, 22, 23, 24, 25, 26,\n",
       "       27, 28, 29, 30, 31, 32, 33, 34, 35, 36, 37, 38, 39, 40, 41, 42, 43,\n",
       "       44, 45, 46, 47, 48, 49])"
      ]
     },
     "execution_count": 260,
     "metadata": {},
     "output_type": "execute_result"
    }
   ],
   "source": [
    "np.arange(10,50)"
   ]
  },
  {
   "cell_type": "code",
   "execution_count": 261,
   "id": "8974075d",
   "metadata": {},
   "outputs": [
    {
     "data": {
      "text/plain": [
       "array([10, 12, 14, 16, 18, 20, 22, 24, 26, 28, 30, 32, 34, 36, 38, 40, 42,\n",
       "       44, 46, 48])"
      ]
     },
     "execution_count": 261,
     "metadata": {},
     "output_type": "execute_result"
    }
   ],
   "source": [
    "np.arange(10,50,2)"
   ]
  },
  {
   "cell_type": "code",
   "execution_count": 262,
   "id": "c888748c",
   "metadata": {},
   "outputs": [
    {
     "data": {
      "text/plain": [
       "array([[0, 1, 2],\n",
       "       [3, 4, 5],\n",
       "       [6, 7, 8]])"
      ]
     },
     "execution_count": 262,
     "metadata": {},
     "output_type": "execute_result"
    }
   ],
   "source": [
    "choi = [0,1,2],[3,4,5],[6,7,8]\n",
    "np.array(choi)"
   ]
  },
  {
   "cell_type": "code",
   "execution_count": 263,
   "id": "0ec5d445",
   "metadata": {},
   "outputs": [
    {
     "data": {
      "text/plain": [
       "array([[1., 0., 0.],\n",
       "       [0., 1., 0.],\n",
       "       [0., 0., 1.]])"
      ]
     },
     "execution_count": 263,
     "metadata": {},
     "output_type": "execute_result"
    }
   ],
   "source": [
    "np.eye(3)"
   ]
  },
  {
   "cell_type": "code",
   "execution_count": 264,
   "id": "076bb3a6",
   "metadata": {},
   "outputs": [
    {
     "data": {
      "text/plain": [
       "array([0.05332326])"
      ]
     },
     "execution_count": 264,
     "metadata": {},
     "output_type": "execute_result"
    }
   ],
   "source": [
    "np.random.rand(1)"
   ]
  },
  {
   "cell_type": "code",
   "execution_count": null,
   "id": "03357cf7",
   "metadata": {},
   "outputs": [],
   "source": [
    "표준정규분포란"
   ]
  },
  {
   "cell_type": "code",
   "execution_count": 265,
   "id": "16d24862",
   "metadata": {
    "scrolled": false
   },
   "outputs": [
    {
     "data": {
      "text/plain": [
       "array([1.0000e-02, 1.0100e+00, 2.0100e+00, 3.0100e+00, 4.0100e+00,\n",
       "       5.0100e+00, 6.0100e+00, 7.0100e+00, 8.0100e+00, 9.0100e+00,\n",
       "       1.0010e+01, 1.1010e+01, 1.2010e+01, 1.3010e+01, 1.4010e+01,\n",
       "       1.5010e+01, 1.6010e+01, 1.7010e+01, 1.8010e+01, 1.9010e+01,\n",
       "       2.0010e+01, 2.1010e+01, 2.2010e+01, 2.3010e+01, 2.4010e+01,\n",
       "       2.5010e+01, 2.6010e+01, 2.7010e+01, 2.8010e+01, 2.9010e+01,\n",
       "       3.0010e+01, 3.1010e+01, 3.2010e+01, 3.3010e+01, 3.4010e+01,\n",
       "       3.5010e+01, 3.6010e+01, 3.7010e+01, 3.8010e+01, 3.9010e+01,\n",
       "       4.0010e+01, 4.1010e+01, 4.2010e+01, 4.3010e+01, 4.4010e+01,\n",
       "       4.5010e+01, 4.6010e+01, 4.7010e+01, 4.8010e+01, 4.9010e+01,\n",
       "       5.0010e+01, 5.1010e+01, 5.2010e+01, 5.3010e+01, 5.4010e+01,\n",
       "       5.5010e+01, 5.6010e+01, 5.7010e+01, 5.8010e+01, 5.9010e+01,\n",
       "       6.0010e+01, 6.1010e+01, 6.2010e+01, 6.3010e+01, 6.4010e+01,\n",
       "       6.5010e+01, 6.6010e+01, 6.7010e+01, 6.8010e+01, 6.9010e+01,\n",
       "       7.0010e+01, 7.1010e+01, 7.2010e+01, 7.3010e+01, 7.4010e+01,\n",
       "       7.5010e+01, 7.6010e+01, 7.7010e+01, 7.8010e+01, 7.9010e+01,\n",
       "       8.0010e+01, 8.1010e+01, 8.2010e+01, 8.3010e+01, 8.4010e+01,\n",
       "       8.5010e+01, 8.6010e+01, 8.7010e+01, 8.8010e+01, 8.9010e+01,\n",
       "       9.0010e+01, 9.1010e+01, 9.2010e+01, 9.3010e+01, 9.4010e+01,\n",
       "       9.5010e+01, 9.6010e+01, 9.7010e+01, 9.8010e+01, 9.9010e+01,\n",
       "       1.0001e+02])"
      ]
     },
     "execution_count": 265,
     "metadata": {},
     "output_type": "execute_result"
    }
   ],
   "source": [
    "np.arange(0.01,101)"
   ]
  },
  {
   "cell_type": "code",
   "execution_count": 266,
   "id": "01ba2122",
   "metadata": {},
   "outputs": [
    {
     "data": {
      "text/plain": [
       "array([0.        , 0.05263158, 0.10526316, 0.15789474, 0.21052632,\n",
       "       0.26315789, 0.31578947, 0.36842105, 0.42105263, 0.47368421,\n",
       "       0.52631579, 0.57894737, 0.63157895, 0.68421053, 0.73684211,\n",
       "       0.78947368, 0.84210526, 0.89473684, 0.94736842, 1.        ])"
      ]
     },
     "execution_count": 266,
     "metadata": {},
     "output_type": "execute_result"
    }
   ],
   "source": [
    "np.linspace(0,1,20)"
   ]
  },
  {
   "cell_type": "code",
   "execution_count": 277,
   "id": "742ef1aa",
   "metadata": {},
   "outputs": [
    {
     "data": {
      "text/plain": [
       "array([[ 1,  2,  3,  4,  5],\n",
       "       [ 6,  7,  8,  9, 10],\n",
       "       [11, 12, 13, 14, 15],\n",
       "       [16, 17, 18, 19, 20],\n",
       "       [21, 22, 23, 24, 25]])"
      ]
     },
     "execution_count": 277,
     "metadata": {},
     "output_type": "execute_result"
    }
   ],
   "source": [
    "mat = [1,2,3,4,5],[6,7,8,9,10],[11,12,13,14,15],[16,17,18,19,20],[21,22,23,24,25]\n",
    "np.array(mat)\n",
    "mat = np.array(mat)\n",
    "mat"
   ]
  },
  {
   "cell_type": "code",
   "execution_count": 270,
   "id": "12cfd564",
   "metadata": {},
   "outputs": [
    {
     "data": {
      "text/plain": [
       "array([[12, 13, 14, 15],\n",
       "       [17, 18, 19, 20],\n",
       "       [22, 23, 24, 25]])"
      ]
     },
     "execution_count": 270,
     "metadata": {},
     "output_type": "execute_result"
    }
   ],
   "source": [
    "mat[2:,1:]"
   ]
  },
  {
   "cell_type": "code",
   "execution_count": 271,
   "id": "9ffd2788",
   "metadata": {},
   "outputs": [
    {
     "data": {
      "text/plain": [
       "20"
      ]
     },
     "execution_count": 271,
     "metadata": {},
     "output_type": "execute_result"
    }
   ],
   "source": [
    "mat[3][4]"
   ]
  },
  {
   "cell_type": "code",
   "execution_count": 272,
   "id": "5fa04a16",
   "metadata": {},
   "outputs": [
    {
     "data": {
      "text/plain": [
       "array([[ 2],\n",
       "       [ 7],\n",
       "       [12]])"
      ]
     },
     "execution_count": 272,
     "metadata": {},
     "output_type": "execute_result"
    }
   ],
   "source": [
    "mat[:3,[1]]"
   ]
  },
  {
   "cell_type": "code",
   "execution_count": 273,
   "id": "c9247afa",
   "metadata": {},
   "outputs": [
    {
     "data": {
      "text/plain": [
       "array([21, 22, 23, 24, 25])"
      ]
     },
     "execution_count": 273,
     "metadata": {},
     "output_type": "execute_result"
    }
   ],
   "source": [
    "mat[4]"
   ]
  },
  {
   "cell_type": "code",
   "execution_count": 274,
   "id": "34ad8b8a",
   "metadata": {},
   "outputs": [
    {
     "data": {
      "text/plain": [
       "array([[16, 17, 18, 19, 20],\n",
       "       [21, 22, 23, 24, 25]])"
      ]
     },
     "execution_count": 274,
     "metadata": {},
     "output_type": "execute_result"
    }
   ],
   "source": [
    "mat[3:]"
   ]
  },
  {
   "cell_type": "code",
   "execution_count": 280,
   "id": "d63c3c43",
   "metadata": {},
   "outputs": [
    {
     "data": {
      "text/plain": [
       "325"
      ]
     },
     "execution_count": 280,
     "metadata": {},
     "output_type": "execute_result"
    }
   ],
   "source": [
    "mat.sum()"
   ]
  },
  {
   "cell_type": "code",
   "execution_count": null,
   "id": "b80d87c9",
   "metadata": {},
   "outputs": [],
   "source": []
  }
 ],
 "metadata": {
  "kernelspec": {
   "display_name": "Python 3 (ipykernel)",
   "language": "python",
   "name": "python3"
  },
  "language_info": {
   "codemirror_mode": {
    "name": "ipython",
    "version": 3
   },
   "file_extension": ".py",
   "mimetype": "text/x-python",
   "name": "python",
   "nbconvert_exporter": "python",
   "pygments_lexer": "ipython3",
   "version": "3.9.13"
  }
 },
 "nbformat": 4,
 "nbformat_minor": 5
}
